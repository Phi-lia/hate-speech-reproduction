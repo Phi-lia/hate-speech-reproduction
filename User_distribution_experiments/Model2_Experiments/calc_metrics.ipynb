{
 "cells": [
  {
   "cell_type": "code",
   "execution_count": 4,
   "metadata": {},
   "outputs": [],
   "source": [
    "import pandas as pd\n",
    "import numpy as np\n",
    "from sklearn import metrics\n",
    "import metrics1\n",
    "from numpy import genfromtxt"
   ]
  },
  {
   "cell_type": "code",
   "execution_count": 46,
   "metadata": {},
   "outputs": [],
   "source": [
    "def getMetrics(s, num):\n",
    "    suffix = '_'+s+'_'+str(num)+'.csv'\n",
    "    logit = genfromtxt('logits/logits'+suffix, delimiter=',')\n",
    "    gt = genfromtxt('GT/groundTruth'+suffix, delimiter=',')\n",
    "    pred = np.argmax(logit,axis=1)\n",
    "    precisionw = metrics.precision_score(gt, pred, average='weighted')\n",
    "    print('precisionw = ', precisionw)\n",
    "    recallw = metrics.recall_score(gt, pred, average='weighted')\n",
    "    print('recallw = ', recallw)\n",
    "    f1_scorew = metrics.f1_score(gt, pred, average='weighted')\n",
    "    print('f1_scorew = ', f1_scorew)\n",
    "    acc = metrics.accuracy_score(gt,pred)\n",
    "    print('acc = ', acc)\n",
    "    gt = gt.astype('int')\n",
    "    ece_criterion = metrics1.ECELoss()\n",
    "    ece_v = ece_criterion.loss(logit,gt, 15, logits=False)\n",
    "    print('ece = ', ece_v)\n",
    "\n",
    "    tace = metrics1.TACELoss()\n",
    "    tace_v = tace.loss(logit, gt)\n",
    "    print('TACE = ', tace_v)\n",
    "    ace = metrics1.ACELoss()\n",
    "    ace_v = ace.loss(logit, gt)\n",
    "    print('ACE = ', ace_v)"
   ]
  },
  {
   "cell_type": "code",
   "execution_count": 49,
   "metadata": {},
   "outputs": [
    {
     "name": "stdout",
     "output_type": "stream",
     "text": [
      "precisionw =  0.7679063176844534\n",
      "recallw =  0.63347022587269\n",
      "f1_scorew =  0.4920440368119684\n",
      "acc =  0.63347022587269\n",
      "ece =  0.29989271203173695\n",
      "TACE =  0.23958738590533263\n",
      "ACE =  0.23958738590533263\n"
     ]
    }
   ],
   "source": [
    "getMetrics('train',6)"
   ]
  },
  {
   "cell_type": "code",
   "execution_count": 20,
   "metadata": {},
   "outputs": [],
   "source": []
  }
 ],
 "metadata": {
  "kernelspec": {
   "display_name": "Python 3",
   "language": "python",
   "name": "python3"
  },
  "language_info": {
   "codemirror_mode": {
    "name": "ipython",
    "version": 3
   },
   "file_extension": ".py",
   "mimetype": "text/x-python",
   "name": "python",
   "nbconvert_exporter": "python",
   "pygments_lexer": "ipython3",
   "version": "3.7.4"
  }
 },
 "nbformat": 4,
 "nbformat_minor": 4
}

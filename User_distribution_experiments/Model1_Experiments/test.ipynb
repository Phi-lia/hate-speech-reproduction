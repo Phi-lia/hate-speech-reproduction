{
 "cells": [
  {
   "cell_type": "code",
   "execution_count": 1,
   "metadata": {},
   "outputs": [
    {
     "name": "stderr",
     "output_type": "stream",
     "text": [
      "/Users/rikka/opt/anaconda3/lib/python3.7/site-packages/tensorflow/python/framework/dtypes.py:516: FutureWarning: Passing (type, 1) or '1type' as a synonym of type is deprecated; in a future version of numpy, it will be understood as (type, (1,)) / '(1,)type'.\n",
      "  _np_qint8 = np.dtype([(\"qint8\", np.int8, 1)])\n",
      "/Users/rikka/opt/anaconda3/lib/python3.7/site-packages/tensorflow/python/framework/dtypes.py:517: FutureWarning: Passing (type, 1) or '1type' as a synonym of type is deprecated; in a future version of numpy, it will be understood as (type, (1,)) / '(1,)type'.\n",
      "  _np_quint8 = np.dtype([(\"quint8\", np.uint8, 1)])\n",
      "/Users/rikka/opt/anaconda3/lib/python3.7/site-packages/tensorflow/python/framework/dtypes.py:518: FutureWarning: Passing (type, 1) or '1type' as a synonym of type is deprecated; in a future version of numpy, it will be understood as (type, (1,)) / '(1,)type'.\n",
      "  _np_qint16 = np.dtype([(\"qint16\", np.int16, 1)])\n",
      "/Users/rikka/opt/anaconda3/lib/python3.7/site-packages/tensorflow/python/framework/dtypes.py:519: FutureWarning: Passing (type, 1) or '1type' as a synonym of type is deprecated; in a future version of numpy, it will be understood as (type, (1,)) / '(1,)type'.\n",
      "  _np_quint16 = np.dtype([(\"quint16\", np.uint16, 1)])\n",
      "/Users/rikka/opt/anaconda3/lib/python3.7/site-packages/tensorflow/python/framework/dtypes.py:520: FutureWarning: Passing (type, 1) or '1type' as a synonym of type is deprecated; in a future version of numpy, it will be understood as (type, (1,)) / '(1,)type'.\n",
      "  _np_qint32 = np.dtype([(\"qint32\", np.int32, 1)])\n",
      "/Users/rikka/opt/anaconda3/lib/python3.7/site-packages/tensorflow/python/framework/dtypes.py:525: FutureWarning: Passing (type, 1) or '1type' as a synonym of type is deprecated; in a future version of numpy, it will be understood as (type, (1,)) / '(1,)type'.\n",
      "  np_resource = np.dtype([(\"resource\", np.ubyte, 1)])\n"
     ]
    },
    {
     "name": "stdout",
     "output_type": "stream",
     "text": [
      "WARNING:tensorflow:From /Users/rikka/opt/anaconda3/lib/python3.7/site-packages/tensorflow/python/compat/v2_compat.py:61: disable_resource_variables (from tensorflow.python.ops.variable_scope) is deprecated and will be removed in a future version.\n",
      "Instructions for updating:\n",
      "non-resource variables are not supported in the long term\n"
     ]
    },
    {
     "name": "stderr",
     "output_type": "stream",
     "text": [
      "/Users/rikka/opt/anaconda3/lib/python3.7/site-packages/tensorboard/compat/tensorflow_stub/dtypes.py:541: FutureWarning: Passing (type, 1) or '1type' as a synonym of type is deprecated; in a future version of numpy, it will be understood as (type, (1,)) / '(1,)type'.\n",
      "  _np_qint8 = np.dtype([(\"qint8\", np.int8, 1)])\n",
      "/Users/rikka/opt/anaconda3/lib/python3.7/site-packages/tensorboard/compat/tensorflow_stub/dtypes.py:542: FutureWarning: Passing (type, 1) or '1type' as a synonym of type is deprecated; in a future version of numpy, it will be understood as (type, (1,)) / '(1,)type'.\n",
      "  _np_quint8 = np.dtype([(\"quint8\", np.uint8, 1)])\n",
      "/Users/rikka/opt/anaconda3/lib/python3.7/site-packages/tensorboard/compat/tensorflow_stub/dtypes.py:543: FutureWarning: Passing (type, 1) or '1type' as a synonym of type is deprecated; in a future version of numpy, it will be understood as (type, (1,)) / '(1,)type'.\n",
      "  _np_qint16 = np.dtype([(\"qint16\", np.int16, 1)])\n",
      "/Users/rikka/opt/anaconda3/lib/python3.7/site-packages/tensorboard/compat/tensorflow_stub/dtypes.py:544: FutureWarning: Passing (type, 1) or '1type' as a synonym of type is deprecated; in a future version of numpy, it will be understood as (type, (1,)) / '(1,)type'.\n",
      "  _np_quint16 = np.dtype([(\"quint16\", np.uint16, 1)])\n",
      "/Users/rikka/opt/anaconda3/lib/python3.7/site-packages/tensorboard/compat/tensorflow_stub/dtypes.py:545: FutureWarning: Passing (type, 1) or '1type' as a synonym of type is deprecated; in a future version of numpy, it will be understood as (type, (1,)) / '(1,)type'.\n",
      "  _np_qint32 = np.dtype([(\"qint32\", np.int32, 1)])\n",
      "/Users/rikka/opt/anaconda3/lib/python3.7/site-packages/tensorboard/compat/tensorflow_stub/dtypes.py:550: FutureWarning: Passing (type, 1) or '1type' as a synonym of type is deprecated; in a future version of numpy, it will be understood as (type, (1,)) / '(1,)type'.\n",
      "  np_resource = np.dtype([(\"resource\", np.ubyte, 1)])\n",
      "/Users/rikka/opt/anaconda3/lib/python3.7/site-packages/dask/dataframe/utils.py:14: FutureWarning: pandas.util.testing is deprecated. Use the functions in the public API at pandas.testing instead.\n",
      "  import pandas.util.testing as tm\n",
      "In /Users/rikka/opt/anaconda3/lib/python3.7/site-packages/matplotlib/mpl-data/stylelib/_classic_test.mplstyle: \n",
      "The text.latex.preview rcparam was deprecated in Matplotlib 3.3 and will be removed two minor releases later.\n",
      "In /Users/rikka/opt/anaconda3/lib/python3.7/site-packages/matplotlib/mpl-data/stylelib/_classic_test.mplstyle: \n",
      "The mathtext.fallback_to_cm rcparam was deprecated in Matplotlib 3.3 and will be removed two minor releases later.\n",
      "In /Users/rikka/opt/anaconda3/lib/python3.7/site-packages/matplotlib/mpl-data/stylelib/_classic_test.mplstyle: Support for setting the 'mathtext.fallback_to_cm' rcParam is deprecated since 3.3 and will be removed two minor releases later; use 'mathtext.fallback : 'cm' instead.\n",
      "In /Users/rikka/opt/anaconda3/lib/python3.7/site-packages/matplotlib/mpl-data/stylelib/_classic_test.mplstyle: \n",
      "The validate_bool_maybe_none function was deprecated in Matplotlib 3.3 and will be removed two minor releases later.\n",
      "In /Users/rikka/opt/anaconda3/lib/python3.7/site-packages/matplotlib/mpl-data/stylelib/_classic_test.mplstyle: \n",
      "The savefig.jpeg_quality rcparam was deprecated in Matplotlib 3.3 and will be removed two minor releases later.\n",
      "In /Users/rikka/opt/anaconda3/lib/python3.7/site-packages/matplotlib/mpl-data/stylelib/_classic_test.mplstyle: \n",
      "The keymap.all_axes rcparam was deprecated in Matplotlib 3.3 and will be removed two minor releases later.\n",
      "In /Users/rikka/opt/anaconda3/lib/python3.7/site-packages/matplotlib/mpl-data/stylelib/_classic_test.mplstyle: \n",
      "The animation.avconv_path rcparam was deprecated in Matplotlib 3.3 and will be removed two minor releases later.\n",
      "In /Users/rikka/opt/anaconda3/lib/python3.7/site-packages/matplotlib/mpl-data/stylelib/_classic_test.mplstyle: \n",
      "The animation.avconv_args rcparam was deprecated in Matplotlib 3.3 and will be removed two minor releases later.\n"
     ]
    },
    {
     "name": "stdout",
     "output_type": "stream",
     "text": [
      "cantidad de usuarios en dataset\n",
      "1550\n"
     ]
    }
   ],
   "source": [
    "import argparse\n",
    "from tflearn.data_utils import to_categorical, pad_sequences\n",
    "import numpy as np\n",
    "import pdb\n",
    "from auxiliares import *\n",
    "from models import *\n",
    "\n",
    "      \n",
    "    #Experimento 1 Cross-Validation\n",
    "tweets,_ = select_tweets('waseem',None)\n",
    "    \n",
    "vocab = gen_vocab(tweets)\n",
    "    \n",
    "MAX_SEQUENCE_LENGTH = max_len(tweets)"
   ]
  },
  {
   "cell_type": "code",
   "execution_count": 4,
   "metadata": {},
   "outputs": [],
   "source": [
    "TOKENIZER = 'glove'\n",
    "GLOVE_MODEL_FILE = 'glove.txt'\n",
    "EMBEDDING_DIM = 200\n",
    "OPTIMIZER = 'adam'\n",
    "LEARN_EMBEDDINGS = True\n",
    "EPOCHS = 10\n",
    "BATCH_SIZE = 128\n",
    "SCALE_LOSS_FUN = None\n",
    "NO_OF_FOLDS = 10\n",
    "SEED = 42\n",
    "np.random.seed(SEED)"
   ]
  },
  {
   "cell_type": "code",
   "execution_count": 6,
   "metadata": {},
   "outputs": [
    {
     "name": "stdout",
     "output_type": "stream",
     "text": [
      "Model variation is LSTM\n",
      "variables\n",
      "200\n",
      "27\n",
      "Model: \"sequential_2\"\n",
      "_________________________________________________________________\n",
      "Layer (type)                 Output Shape              Param #   \n",
      "=================================================================\n",
      "embedding_2 (Embedding)      (None, 27, 200)           2350200   \n",
      "_________________________________________________________________\n",
      "dropout_4 (Dropout)          (None, 27, 200)           0         \n",
      "_________________________________________________________________\n",
      "lstm_2 (LSTM)                (None, 200)               320800    \n",
      "_________________________________________________________________\n",
      "dropout_5 (Dropout)          (None, 200)               0         \n",
      "_________________________________________________________________\n",
      "dense_2 (Dense)              (None, 3)                 603       \n",
      "_________________________________________________________________\n",
      "activation_2 (Activation)    (None, 3)                 0         \n",
      "=================================================================\n",
      "Total params: 2,671,603\n",
      "Trainable params: 2,671,603\n",
      "Non-trainable params: 0\n",
      "_________________________________________________________________\n",
      "None\n",
      "cantidad de usuarios en dataset\n",
      "1550\n",
      "Tweets selected: 9668\n"
     ]
    }
   ],
   "source": [
    "#Step 1: Training the embeddings with all data\n",
    "a, p, r, f1 = 0., 0., 0., 0.\n",
    "a1, p1, r1, f11 = 0., 0., 0., 0.\n",
    "pn, rn, fn = 0., 0., 0.\n",
    "\n",
    "X, y = gen_sequence(tweets, vocab, 'binary' )\n",
    "X = pad_sequences(X, maxlen=MAX_SEQUENCE_LENGTH)\n",
    "X, y = sklearn.utils.shuffle(X, y)\n",
    "y = np.array(y)\n",
    "    \n",
    "y_train = y.reshape((len(y), 1))\n",
    "X_temp = np.hstack((X, y_train))\n",
    "   \n",
    "model = lstm_model(MAX_SEQUENCE_LENGTH, EMBEDDING_DIM,vocab)\n",
    "    \n",
    "    #initializing with random embeddings\n",
    "shuffle_weights(model)\n",
    "    \n",
    "for epoch in range(EPOCHS):\n",
    "    for X_batch in batch_gen(X_temp, BATCH_SIZE):\n",
    "        x = X_batch[:, :MAX_SEQUENCE_LENGTH]\n",
    "        y_temp = X_batch[:, MAX_SEQUENCE_LENGTH]\n",
    "        try:\n",
    "            y_temp = to_categorical(y_temp, nb_classes=3)\n",
    "        except Exception as e:\n",
    "            print (e)\n",
    "            #print(y_temp)\n",
    "#            print(to_categorical(y_temp,nb_classes=3))\n",
    "        loss, acc = model.train_on_batch(x, y_temp, class_weight=None)\n",
    "\n",
    "\n",
    "tweets,_ = select_tweets('waseem', None)\n",
    "\n",
    "    #Extracting learned embeddings \n",
    "wordEmb = model.layers[0].get_weights()[0]\n",
    "\n",
    "    #Step 2: Cross- Validation Using the XGB classifier and the learned embeddings\n",
    "word2vec_model = create_model(wordEmb,vocab)\n",
    "\n",
    "tweets = select_tweets_whose_embedding_exists(tweets, word2vec_model)\n",
    "\n",
    "X, y = gen_data(tweets, word2vec_model,'binary')\n",
    "\n",
    "cv_object = StratifiedKFold(n_splits=NO_OF_FOLDS, shuffle=True, random_state=42)"
   ]
  },
  {
   "cell_type": "code",
   "execution_count": null,
   "metadata": {},
   "outputs": [],
   "source": [
    "for train_index, test_index in cv_object.split(X,y):\n",
    "    X_train, y_train = X[train_index],y[train_index]\n",
    "    X_test, y_test = X[test_index],y[test_index]\n",
    "    X_train, y_train = sklearn.utils.shuffle(X_train, y_train)\n",
    "\n",
    "    X_test, y_test = sklearn.utils.shuffle(X_test, y_test)\n",
    "        #print(y_train)\n",
    "    import xgboost as xgb\n",
    "    clf = xgb.XGBClassifier(use_label_encoder=False)\n",
    "    clf.fit(X_train, y_train)\n",
    "    model=clf\n"
   ]
  },
  {
   "cell_type": "code",
   "execution_count": null,
   "metadata": {},
   "outputs": [],
   "source": [
    "\n",
    "        precision, recall, f1_score,precisionw, recallw, f1_scorew,precisionm, recallm, f1_scorem =evaluate_model(model, X_test, y_test, 'binary')\n",
    "        \n",
    "        p += precisionw\n",
    "        p1 += precisionm\n",
    "        r += recallw\n",
    "        r1 += recallm\n",
    "        f1 += f1_scorew\n",
    "        f11 += f1_scorem\n",
    "        pn += precision\n",
    "        rn += recall\n",
    "        fn += f1_score\n",
    "    print_scores(p, p1, r,r1, f1, f11,pn, rn, fn,NO_OF_FOLDS)"
   ]
  }
 ],
 "metadata": {
  "kernelspec": {
   "display_name": "Python 3",
   "language": "python",
   "name": "python3"
  },
  "language_info": {
   "codemirror_mode": {
    "name": "ipython",
    "version": 3
   },
   "file_extension": ".py",
   "mimetype": "text/x-python",
   "name": "python",
   "nbconvert_exporter": "python",
   "pygments_lexer": "ipython3",
   "version": "3.7.4"
  }
 },
 "nbformat": 4,
 "nbformat_minor": 4
}
